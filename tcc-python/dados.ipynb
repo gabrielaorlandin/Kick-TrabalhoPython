{
 "cells": [
  {
   "cell_type": "code",
   "execution_count": 1,
   "metadata": {},
   "outputs": [
    {
     "data": {
      "text/plain": [
       "'\\n# Fontes de Dados para Análise\\n\\nAqui estão as fontes de dados que foram utilizadas para a análise:\\n\\n1. [Investimento Estudante - Valor Real (2021)](https://download.inep.gov.br/informacoes_estatisticas/investimentos_publicos_em_educacao/indicadores_financeiros_educacionais/Investimento_estudante_valor_real.zip)\\n\\n2. [Percentual de Docentes com Pós-Graduação Stricto Sensu (2021)](https://download.inep.gov.br/dados_abertos/indicadores_educacionais/percentual_de_docentes_com_pos_graduacao_stricto_sensu/percentual_docente_2021.zip)\\n\\n3. [Percentual de Docentes com Pós-Graduação Stricto Sensu (2020)](https://download.inep.gov.br/dados_abertos/indicadores_educacionais/percentual_de_docentes_com_pos_graduacao_stricto_sensu/percentual_docente_2020.zip)\\n\\n4. [Dados de Cursos de Graduação no Brasil (2022)](https://dadosabertos.mec.gov.br/images/conteudo/Ind-ensino-superior/2022//PDA_Dados_Cursos_Graduacao_Brasil.csv)\\n\\nEssas fontes de dados foram utilizadas como base para a análise realizada.\\n'"
      ]
     },
     "execution_count": 1,
     "metadata": {},
     "output_type": "execute_result"
    }
   ],
   "source": [
    "\"\"\"\n",
    "# Fontes de Dados para Análise\n",
    "\n",
    "Aqui estão as fontes de dados que foram utilizadas para a análise:\n",
    "\n",
    "1. [Investimento Estudante - Valor Real (2021)](https://download.inep.gov.br/informacoes_estatisticas/investimentos_publicos_em_educacao/indicadores_financeiros_educacionais/Investimento_estudante_valor_real.zip)\n",
    "\n",
    "2. [Percentual de Docentes com Pós-Graduação Stricto Sensu (2021)](https://download.inep.gov.br/dados_abertos/indicadores_educacionais/percentual_de_docentes_com_pos_graduacao_stricto_sensu/percentual_docente_2021.zip)\n",
    "\n",
    "3. [Percentual de Docentes com Pós-Graduação Stricto Sensu (2020)](https://download.inep.gov.br/dados_abertos/indicadores_educacionais/percentual_de_docentes_com_pos_graduacao_stricto_sensu/percentual_docente_2020.zip)\n",
    "\n",
    "4. [Dados de Cursos de Graduação no Brasil (2022)](https://dadosabertos.mec.gov.br/images/conteudo/Ind-ensino-superior/2022//PDA_Dados_Cursos_Graduacao_Brasil.csv)\n",
    "\n",
    "Essas fontes de dados foram utilizadas como base para a análise realizada.\n",
    "\"\"\"\n"
   ]
  }
 ],
 "metadata": {
  "kernelspec": {
   "display_name": "Python 3",
   "language": "python",
   "name": "python3"
  },
  "language_info": {
   "codemirror_mode": {
    "name": "ipython",
    "version": 3
   },
   "file_extension": ".py",
   "mimetype": "text/x-python",
   "name": "python",
   "nbconvert_exporter": "python",
   "pygments_lexer": "ipython3",
   "version": "3.11.4"
  },
  "orig_nbformat": 4
 },
 "nbformat": 4,
 "nbformat_minor": 2
}
